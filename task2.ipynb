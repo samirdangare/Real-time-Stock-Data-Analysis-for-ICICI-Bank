{
 "cells": [
  {
   "cell_type": "code",
   "execution_count": 15,
   "id": "dd738449",
   "metadata": {},
   "outputs": [],
   "source": [
    "import yfinance as yf\n",
    "import pymongo\n",
    "from apscheduler.schedulers.background import BackgroundScheduler\n",
    "from datetime import datetime, timedelta\n"
   ]
  },
  {
   "cell_type": "markdown",
   "id": "fc94037c",
   "metadata": {},
   "source": [
    "# Main Code =>"
   ]
  },
  {
   "cell_type": "code",
   "execution_count": null,
   "id": "59aba14f",
   "metadata": {},
   "outputs": [],
   "source": [
    "import yfinance as yf\n",
    "import pymongo\n",
    "from apscheduler.schedulers.background import BackgroundScheduler\n",
    "from datetime import datetime, timedelta\n",
    "\n",
    "# Connection to MongoDB\n",
    "client = pymongo.MongoClient(\"mongodb://localhost:27017/\")\n",
    "db = client[\"stock_data\"]\n",
    "collection = db[\"icici_bank\"]\n",
    "\n",
    "# ICICI Bank ticker\n",
    "ticker = \"ICICIBANK.NS\"\n",
    "\n",
    "# function to fetch and store stock data\n",
    "def fetch_and_store_data():\n",
    "    now = datetime.now()\n",
    "    start_time = datetime(now.year, now.month, now.day, 11, 15, 0)\n",
    "    end_time = datetime(now.year, now.month, now.day, 14, 15, 0)\n",
    "\n",
    "    if start_time <= now <= end_time:\n",
    "        data = yf.Ticker(ticker).history(period=\"15m\", interval=\"15m\")\n",
    "        data[\"Datetime\"] = data.index\n",
    "        data = data.reset_index(drop=True)\n",
    "        data_dict = data.to_dict(orient=\"records\")\n",
    "\n",
    "        collection.insert_many(data_dict)\n",
    "        print(f\"Stored data for {now.strftime('%Y-%m-%d %H:%M:%S')}\")\n",
    "\n",
    "#  APS Scheduler job to run every 15 minutes\n",
    "scheduler = BackgroundScheduler()\n",
    "scheduler.add_job(fetch_and_store_data, \"interval\", minutes=15)\n",
    "scheduler.start()\n",
    "\n",
    "try:\n",
    "    # scheduler for a week (adjust the end date as needed)\n",
    "    end_date = datetime.now() + timedelta(days=7)\n",
    "    while datetime.now() <= end_date:\n",
    "        pass\n",
    "except (KeyboardInterrupt, SystemExit):\n",
    "    # scheduler gracefully when manually interrupted\n",
    "    scheduler.shutdown()\n",
    "# END OF CODE"
   ]
  },
  {
   "cell_type": "code",
   "execution_count": null,
   "id": "70acda2a",
   "metadata": {},
   "outputs": [],
   "source": []
  },
  {
   "cell_type": "code",
   "execution_count": 16,
   "id": "5e0b3ddb",
   "metadata": {},
   "outputs": [
    {
     "name": "stdout",
     "output_type": "stream",
     "text": [
      "Defaulting to user installation because normal site-packages is not writeableNote: you may need to restart the kernel to use updated packages.\n",
      "\n",
      "Requirement already satisfied: pymongo in c:\\users\\pritik\\appdata\\roaming\\python\\python311\\site-packages (4.6.0)\n",
      "Requirement already satisfied: dnspython<3.0.0,>=1.16.0 in c:\\users\\pritik\\appdata\\roaming\\python\\python311\\site-packages (from pymongo) (2.4.2)\n"
     ]
    }
   ],
   "source": [
    "pip install pymongo"
   ]
  },
  {
   "cell_type": "code",
   "execution_count": 17,
   "id": "bb0fbe37",
   "metadata": {},
   "outputs": [
    {
     "name": "stdout",
     "output_type": "stream",
     "text": [
      "Defaulting to user installation because normal site-packages is not writeable\n",
      "Requirement already satisfied: apscheduler in c:\\users\\pritik\\appdata\\roaming\\python\\python311\\site-packages (3.10.4)\n",
      "Requirement already satisfied: six>=1.4.0 in c:\\programdata\\anaconda\\lib\\site-packages (from apscheduler) (1.16.0)\n",
      "Requirement already satisfied: pytz in c:\\programdata\\anaconda\\lib\\site-packages (from apscheduler) (2022.7)\n",
      "Requirement already satisfied: tzlocal!=3.*,>=2.0 in c:\\users\\pritik\\appdata\\roaming\\python\\python311\\site-packages (from apscheduler) (5.2)\n",
      "Requirement already satisfied: tzdata in c:\\users\\pritik\\appdata\\roaming\\python\\python311\\site-packages (from tzlocal!=3.*,>=2.0->apscheduler) (2023.3)\n",
      "Note: you may need to restart the kernel to use updated packages.\n"
     ]
    }
   ],
   "source": [
    "pip install apscheduler"
   ]
  },
  {
   "cell_type": "code",
   "execution_count": 18,
   "id": "927587a1",
   "metadata": {},
   "outputs": [],
   "source": [
    "client = pymongo.MongoClient(\"mongodb://localhost:27017/\")\n",
    "db = client[\"stock_data\"]\n",
    "collection = db[\"icici_bank\"]"
   ]
  },
  {
   "cell_type": "code",
   "execution_count": 9,
   "id": "97c1fd6c",
   "metadata": {},
   "outputs": [],
   "source": [
    "# ICICI Bank ticker\n",
    "ticker = \"ICICIBANK.NS\""
   ]
  },
  {
   "cell_type": "code",
   "execution_count": 10,
   "id": "56f3ee5c",
   "metadata": {},
   "outputs": [],
   "source": [
    "#  function to fetch and store stock data\n",
    "def fetch_and_store_data():\n",
    "    now = datetime.now()\n",
    "    start_time = datetime(now.year, now.month, now.day, 11, 15, 0)\n",
    "    end_time = datetime(now.year, now.month, now.day, 14, 15, 0)\n",
    "\n",
    "    if start_time <= now <= end_time:\n",
    "        data = yf.Ticker(ticker).history(period=\"15m\", interval=\"15m\")\n",
    "        data[\"Datetime\"] = data.index\n",
    "        data = data.reset_index(drop=True)\n",
    "        data_dict = data.to_dict(orient=\"records\")\n",
    "\n",
    "        collection.insert_many(data_dict)\n",
    "        print(f\"Stored data for {now.strftime('%Y-%m-%d %H:%M:%S')}\")"
   ]
  },
  {
   "cell_type": "code",
   "execution_count": 11,
   "id": "201d38ac",
   "metadata": {},
   "outputs": [],
   "source": [
    "# APS Scheduler job to run every 15 minutes\n",
    "scheduler = BackgroundScheduler()\n",
    "scheduler.add_job(fetch_and_store_data, \"interval\", minutes=15)\n",
    "scheduler.start()"
   ]
  },
  {
   "cell_type": "code",
   "execution_count": null,
   "id": "8051949b",
   "metadata": {},
   "outputs": [],
   "source": [
    "try:\n",
    "    # scheduler for a week (adjust fthe end date as needed)\n",
    "    end_date = datetime.now() + timedelta(days=7)\n",
    "    while datetime.now() <= end_date:\n",
    "        pass\n",
    "except (KeyboardInterrupt, SystemExit):\n",
    "    # Shutdown the scheduler gracefully when manually interrupted\n",
    "    scheduler.shutdown()"
   ]
  },
  {
   "cell_type": "code",
   "execution_count": null,
   "id": "7d85aac5",
   "metadata": {},
   "outputs": [],
   "source": []
  },
  {
   "cell_type": "code",
   "execution_count": null,
   "id": "f1ace82b",
   "metadata": {},
   "outputs": [],
   "source": []
  }
 ],
 "metadata": {
  "kernelspec": {
   "display_name": "Python 3 (ipykernel)",
   "language": "python",
   "name": "python3"
  },
  "language_info": {
   "codemirror_mode": {
    "name": "ipython",
    "version": 3
   },
   "file_extension": ".py",
   "mimetype": "text/x-python",
   "name": "python",
   "nbconvert_exporter": "python",
   "pygments_lexer": "ipython3",
   "version": "3.11.3"
  }
 },
 "nbformat": 4,
 "nbformat_minor": 5
}
